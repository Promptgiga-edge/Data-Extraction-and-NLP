{
 "cells": [
  {
   "cell_type": "markdown",
   "metadata": {},
   "source": [
    "#### # Step[1]:\n",
    "#### Installing required libraries"
   ]
  },
  {
   "cell_type": "code",
   "execution_count": 1,
   "metadata": {},
   "outputs": [
    {
     "name": "stdout",
     "output_type": "stream",
     "text": [
      "Defaulting to user installation because normal site-packages is not writeable\n",
      "Requirement already satisfied: requests in c:\\users\\bipla\\appdata\\local\\packages\\pythonsoftwarefoundation.python.3.12_qbz5n2kfra8p0\\localcache\\local-packages\\python312\\site-packages (2.32.3)\n",
      "Requirement already satisfied: beautifulsoup4 in c:\\users\\bipla\\appdata\\local\\packages\\pythonsoftwarefoundation.python.3.12_qbz5n2kfra8p0\\localcache\\local-packages\\python312\\site-packages (4.12.3)\n",
      "Requirement already satisfied: numpy in c:\\users\\bipla\\appdata\\local\\packages\\pythonsoftwarefoundation.python.3.12_qbz5n2kfra8p0\\localcache\\local-packages\\python312\\site-packages (1.26.4)\n",
      "Requirement already satisfied: pandas in c:\\users\\bipla\\appdata\\local\\packages\\pythonsoftwarefoundation.python.3.12_qbz5n2kfra8p0\\localcache\\local-packages\\python312\\site-packages (2.2.2)\n",
      "Requirement already satisfied: nltk in c:\\users\\bipla\\appdata\\local\\packages\\pythonsoftwarefoundation.python.3.12_qbz5n2kfra8p0\\localcache\\local-packages\\python312\\site-packages (3.8.1)\n",
      "Requirement already satisfied: syllables in c:\\users\\bipla\\appdata\\local\\packages\\pythonsoftwarefoundation.python.3.12_qbz5n2kfra8p0\\localcache\\local-packages\\python312\\site-packages (1.0.9)\n",
      "Requirement already satisfied: charset-normalizer<4,>=2 in c:\\users\\bipla\\appdata\\local\\packages\\pythonsoftwarefoundation.python.3.12_qbz5n2kfra8p0\\localcache\\local-packages\\python312\\site-packages (from requests) (3.3.2)\n",
      "Requirement already satisfied: idna<4,>=2.5 in c:\\users\\bipla\\appdata\\local\\packages\\pythonsoftwarefoundation.python.3.12_qbz5n2kfra8p0\\localcache\\local-packages\\python312\\site-packages (from requests) (3.7)\n",
      "Requirement already satisfied: urllib3<3,>=1.21.1 in c:\\users\\bipla\\appdata\\local\\packages\\pythonsoftwarefoundation.python.3.12_qbz5n2kfra8p0\\localcache\\local-packages\\python312\\site-packages (from requests) (2.2.1)\n",
      "Requirement already satisfied: certifi>=2017.4.17 in c:\\users\\bipla\\appdata\\local\\packages\\pythonsoftwarefoundation.python.3.12_qbz5n2kfra8p0\\localcache\\local-packages\\python312\\site-packages (from requests) (2024.6.2)\n",
      "Requirement already satisfied: soupsieve>1.2 in c:\\users\\bipla\\appdata\\local\\packages\\pythonsoftwarefoundation.python.3.12_qbz5n2kfra8p0\\localcache\\local-packages\\python312\\site-packages (from beautifulsoup4) (2.5)\n",
      "Requirement already satisfied: python-dateutil>=2.8.2 in c:\\users\\bipla\\appdata\\local\\packages\\pythonsoftwarefoundation.python.3.12_qbz5n2kfra8p0\\localcache\\local-packages\\python312\\site-packages (from pandas) (2.9.0.post0)\n",
      "Requirement already satisfied: pytz>=2020.1 in c:\\users\\bipla\\appdata\\local\\packages\\pythonsoftwarefoundation.python.3.12_qbz5n2kfra8p0\\localcache\\local-packages\\python312\\site-packages (from pandas) (2024.1)\n",
      "Requirement already satisfied: tzdata>=2022.7 in c:\\users\\bipla\\appdata\\local\\packages\\pythonsoftwarefoundation.python.3.12_qbz5n2kfra8p0\\localcache\\local-packages\\python312\\site-packages (from pandas) (2024.1)\n",
      "Requirement already satisfied: click in c:\\users\\bipla\\appdata\\local\\packages\\pythonsoftwarefoundation.python.3.12_qbz5n2kfra8p0\\localcache\\local-packages\\python312\\site-packages (from nltk) (8.1.7)\n",
      "Requirement already satisfied: joblib in c:\\users\\bipla\\appdata\\local\\packages\\pythonsoftwarefoundation.python.3.12_qbz5n2kfra8p0\\localcache\\local-packages\\python312\\site-packages (from nltk) (1.4.2)\n",
      "Requirement already satisfied: regex>=2021.8.3 in c:\\users\\bipla\\appdata\\local\\packages\\pythonsoftwarefoundation.python.3.12_qbz5n2kfra8p0\\localcache\\local-packages\\python312\\site-packages (from nltk) (2024.5.15)\n",
      "Requirement already satisfied: tqdm in c:\\users\\bipla\\appdata\\local\\packages\\pythonsoftwarefoundation.python.3.12_qbz5n2kfra8p0\\localcache\\local-packages\\python312\\site-packages (from nltk) (4.66.4)\n",
      "Requirement already satisfied: cmudict<2.0.0,>=1.0.11 in c:\\users\\bipla\\appdata\\local\\packages\\pythonsoftwarefoundation.python.3.12_qbz5n2kfra8p0\\localcache\\local-packages\\python312\\site-packages (from syllables) (1.0.23)\n",
      "Requirement already satisfied: importlib-metadata<7.0,>=5.1 in c:\\users\\bipla\\appdata\\local\\packages\\pythonsoftwarefoundation.python.3.12_qbz5n2kfra8p0\\localcache\\local-packages\\python312\\site-packages (from syllables) (6.11.0)\n",
      "Requirement already satisfied: importlib-resources>=5 in c:\\users\\bipla\\appdata\\local\\packages\\pythonsoftwarefoundation.python.3.12_qbz5n2kfra8p0\\localcache\\local-packages\\python312\\site-packages (from cmudict<2.0.0,>=1.0.11->syllables) (6.4.0)\n",
      "Requirement already satisfied: zipp>=0.5 in c:\\users\\bipla\\appdata\\local\\packages\\pythonsoftwarefoundation.python.3.12_qbz5n2kfra8p0\\localcache\\local-packages\\python312\\site-packages (from importlib-metadata<7.0,>=5.1->syllables) (3.19.2)\n",
      "Requirement already satisfied: six>=1.5 in c:\\users\\bipla\\appdata\\local\\packages\\pythonsoftwarefoundation.python.3.12_qbz5n2kfra8p0\\localcache\\local-packages\\python312\\site-packages (from python-dateutil>=2.8.2->pandas) (1.16.0)\n",
      "Requirement already satisfied: colorama in c:\\users\\bipla\\appdata\\local\\packages\\pythonsoftwarefoundation.python.3.12_qbz5n2kfra8p0\\localcache\\local-packages\\python312\\site-packages (from click->nltk) (0.4.6)\n"
     ]
    }
   ],
   "source": [
    "!pip install requests beautifulsoup4 numpy pandas nltk syllables"
   ]
  },
  {
   "cell_type": "markdown",
   "metadata": {},
   "source": [
    "####  #Step[2]:\n",
    "\n",
    "#### Importing necessary libraries"
   ]
  },
  {
   "cell_type": "code",
   "execution_count": 2,
   "metadata": {},
   "outputs": [],
   "source": [
    "import pandas as pd\n",
    "import requests\n",
    "from bs4 import BeautifulSoup\n",
    "import numpy as np\n",
    "import re\n",
    "import syllables\n",
    "import nltk\n",
    "from nltk.tokenize import word_tokenize\n",
    "from nltk.stem import WordNetLemmatizer"
   ]
  },
  {
   "cell_type": "markdown",
   "metadata": {},
   "source": [
    "#### Download NLTK resources"
   ]
  },
  {
   "cell_type": "code",
   "execution_count": 3,
   "metadata": {},
   "outputs": [
    {
     "name": "stderr",
     "output_type": "stream",
     "text": [
      "[nltk_data] Downloading package omw-1.4 to\n",
      "[nltk_data]     C:\\Users\\bipla\\AppData\\Roaming\\nltk_data...\n",
      "[nltk_data]   Package omw-1.4 is already up-to-date!\n",
      "[nltk_data] Downloading package punkt to\n",
      "[nltk_data]     C:\\Users\\bipla\\AppData\\Roaming\\nltk_data...\n",
      "[nltk_data]   Package punkt is already up-to-date!\n",
      "[nltk_data] Downloading package averaged_perceptron_tagger to\n",
      "[nltk_data]     C:\\Users\\bipla\\AppData\\Roaming\\nltk_data...\n",
      "[nltk_data]   Package averaged_perceptron_tagger is already up-to-\n",
      "[nltk_data]       date!\n",
      "[nltk_data] Downloading package wordnet to\n",
      "[nltk_data]     C:\\Users\\bipla\\AppData\\Roaming\\nltk_data...\n",
      "[nltk_data]   Package wordnet is already up-to-date!\n"
     ]
    },
    {
     "data": {
      "text/plain": [
       "True"
      ]
     },
     "execution_count": 3,
     "metadata": {},
     "output_type": "execute_result"
    }
   ],
   "source": [
    "nltk.download('omw-1.4')\n",
    "nltk.download('punkt')\n",
    "nltk.download('averaged_perceptron_tagger')\n",
    "nltk.download('wordnet')"
   ]
  },
  {
   "cell_type": "markdown",
   "metadata": {},
   "source": [
    "#### #Step[3]:\n",
    "\n",
    "#### Load input data file"
   ]
  },
  {
   "cell_type": "code",
   "execution_count": 4,
   "metadata": {},
   "outputs": [
    {
     "data": {
      "text/html": [
       "<div>\n",
       "<style scoped>\n",
       "    .dataframe tbody tr th:only-of-type {\n",
       "        vertical-align: middle;\n",
       "    }\n",
       "\n",
       "    .dataframe tbody tr th {\n",
       "        vertical-align: top;\n",
       "    }\n",
       "\n",
       "    .dataframe thead th {\n",
       "        text-align: right;\n",
       "    }\n",
       "</style>\n",
       "<table border=\"1\" class=\"dataframe\">\n",
       "  <thead>\n",
       "    <tr style=\"text-align: right;\">\n",
       "      <th></th>\n",
       "      <th>URL_ID</th>\n",
       "      <th>URL</th>\n",
       "    </tr>\n",
       "  </thead>\n",
       "  <tbody>\n",
       "    <tr>\n",
       "      <th>0</th>\n",
       "      <td>blackassign0001</td>\n",
       "      <td>https://insights.blackcoffer.com/rising-it-cit...</td>\n",
       "    </tr>\n",
       "    <tr>\n",
       "      <th>1</th>\n",
       "      <td>blackassign0002</td>\n",
       "      <td>https://insights.blackcoffer.com/rising-it-cit...</td>\n",
       "    </tr>\n",
       "    <tr>\n",
       "      <th>2</th>\n",
       "      <td>blackassign0003</td>\n",
       "      <td>https://insights.blackcoffer.com/internet-dema...</td>\n",
       "    </tr>\n",
       "    <tr>\n",
       "      <th>3</th>\n",
       "      <td>blackassign0004</td>\n",
       "      <td>https://insights.blackcoffer.com/rise-of-cyber...</td>\n",
       "    </tr>\n",
       "    <tr>\n",
       "      <th>4</th>\n",
       "      <td>blackassign0005</td>\n",
       "      <td>https://insights.blackcoffer.com/ott-platform-...</td>\n",
       "    </tr>\n",
       "  </tbody>\n",
       "</table>\n",
       "</div>"
      ],
      "text/plain": [
       "            URL_ID                                                URL\n",
       "0  blackassign0001  https://insights.blackcoffer.com/rising-it-cit...\n",
       "1  blackassign0002  https://insights.blackcoffer.com/rising-it-cit...\n",
       "2  blackassign0003  https://insights.blackcoffer.com/internet-dema...\n",
       "3  blackassign0004  https://insights.blackcoffer.com/rise-of-cyber...\n",
       "4  blackassign0005  https://insights.blackcoffer.com/ott-platform-..."
      ]
     },
     "execution_count": 4,
     "metadata": {},
     "output_type": "execute_result"
    }
   ],
   "source": [
    "df = pd.read_excel('D:/Journey of Data Science/Projects/Data extraction/Input.xlsx')[['URL_ID', 'URL']]\n",
    "df.head()"
   ]
  },
  {
   "cell_type": "markdown",
   "metadata": {},
   "source": [
    "#### Let explore the input file"
   ]
  },
  {
   "cell_type": "code",
   "execution_count": 5,
   "metadata": {},
   "outputs": [
    {
     "name": "stdout",
     "output_type": "stream",
     "text": [
      "Input data has 100 rows & 2 columns\n",
      "Number of null in 'URL_ID' column: 0\n",
      "Number of null in 'URL' column: 0\n"
     ]
    }
   ],
   "source": [
    "print(\"Input data has {} rows & {} columns\".format(len(df),len(df.columns)))\n",
    "print(\"Number of null in 'URL_ID' column: {}\".format(df['URL_ID'].isnull().sum()))\n",
    "print(\"Number of null in 'URL' column: {}\".format(df['URL'].isnull().sum()))"
   ]
  },
  {
   "cell_type": "markdown",
   "metadata": {},
   "source": [
    "#### #Step[4]:\n",
    "\n",
    "#### Function to extract article text"
   ]
  },
  {
   "cell_type": "code",
   "execution_count": 6,
   "metadata": {},
   "outputs": [],
   "source": [
    "def extract_article_text(url):\n",
    "    try:\n",
    "        response = requests.get(url)\n",
    "        soup = BeautifulSoup(response.content, 'html.parser')\n",
    "        article_text = \" \".join([p.get_text() for p in soup.find_all('p') if not p.find('img')])\n",
    "        return article_text\n",
    "    except Exception as e:\n",
    "        print(f\"Failed to extract text from {url}: {e}\")\n",
    "        return \"\""
   ]
  },
  {
   "cell_type": "markdown",
   "metadata": {},
   "source": [
    "#### Extract and save article text"
   ]
  },
  {
   "cell_type": "code",
   "execution_count": 7,
   "metadata": {},
   "outputs": [
    {
     "name": "stdout",
     "output_type": "stream",
     "text": [
      "Extracted article from https://insights.blackcoffer.com/rising-it-cities-and-its-impact-on-the-economy-environment-infrastructure-and-city-life-by-the-year-2040-2/ and saved to blackassign0001.txt.\n",
      "Extracted article from https://insights.blackcoffer.com/rising-it-cities-and-their-impact-on-the-economy-environment-infrastructure-and-city-life-in-future/ and saved to blackassign0002.txt.\n",
      "Extracted article from https://insights.blackcoffer.com/internet-demands-evolution-communication-impact-and-2035s-alternative-pathways/ and saved to blackassign0003.txt.\n",
      "Extracted article from https://insights.blackcoffer.com/rise-of-cybercrime-and-its-effect-in-upcoming-future/ and saved to blackassign0004.txt.\n",
      "Extracted article from https://insights.blackcoffer.com/ott-platform-and-its-impact-on-the-entertainment-industry-in-future/ and saved to blackassign0005.txt.\n",
      "Extracted article from https://insights.blackcoffer.com/the-rise-of-the-ott-platform-and-its-impact-on-the-entertainment-industry-by-2040/ and saved to blackassign0006.txt.\n",
      "Extracted article from https://insights.blackcoffer.com/rise-of-cyber-crime-and-its-effects/ and saved to blackassign0007.txt.\n",
      "Extracted article from https://insights.blackcoffer.com/rise-of-internet-demand-and-its-impact-on-communications-and-alternatives-by-the-year-2035-2/ and saved to blackassign0008.txt.\n",
      "Extracted article from https://insights.blackcoffer.com/rise-of-cybercrime-and-its-effect-by-the-year-2040-2/ and saved to blackassign0009.txt.\n",
      "Extracted article from https://insights.blackcoffer.com/rise-of-cybercrime-and-its-effect-by-the-year-2040/ and saved to blackassign0010.txt.\n",
      "Extracted article from https://insights.blackcoffer.com/rise-of-internet-demand-and-its-impact-on-communications-and-alternatives-by-the-year-2035/ and saved to blackassign0011.txt.\n",
      "Extracted article from https://insights.blackcoffer.com/rise-of-telemedicine-and-its-impact-on-livelihood-by-2040-3-2/ and saved to blackassign0012.txt.\n",
      "Extracted article from https://insights.blackcoffer.com/rise-of-e-health-and-its-impact-on-humans-by-the-year-2030/ and saved to blackassign0013.txt.\n",
      "Extracted article from https://insights.blackcoffer.com/rise-of-e-health-and-its-imapct-on-humans-by-the-year-2030-2/ and saved to blackassign0014.txt.\n",
      "Extracted article from https://insights.blackcoffer.com/rise-of-telemedicine-and-its-impact-on-livelihood-by-2040-2/ and saved to blackassign0015.txt.\n",
      "Extracted article from https://insights.blackcoffer.com/rise-of-telemedicine-and-its-impact-on-livelihood-by-2040-2-2/ and saved to blackassign0016.txt.\n",
      "Extracted article from https://insights.blackcoffer.com/rise-of-chatbots-and-its-impact-on-customer-support-by-the-year-2040/ and saved to blackassign0017.txt.\n",
      "Extracted article from https://insights.blackcoffer.com/rise-of-e-health-and-its-imapct-on-humans-by-the-year-2030/ and saved to blackassign0018.txt.\n",
      "Extracted article from https://insights.blackcoffer.com/how-does-marketing-influence-businesses-and-consumers/ and saved to blackassign0019.txt.\n",
      "Extracted article from https://insights.blackcoffer.com/how-advertisement-increase-your-market-value/ and saved to blackassign0020.txt.\n",
      "Extracted article from https://insights.blackcoffer.com/negative-effects-of-marketing-on-society/ and saved to blackassign0021.txt.\n",
      "Extracted article from https://insights.blackcoffer.com/how-advertisement-marketing-affects-business/ and saved to blackassign0022.txt.\n",
      "Extracted article from https://insights.blackcoffer.com/rising-it-cities-will-impact-the-economy-environment-infrastructure-and-city-life-by-the-year-2035/ and saved to blackassign0023.txt.\n",
      "Extracted article from https://insights.blackcoffer.com/rise-of-ott-platform-and-its-impact-on-entertainment-industry-by-the-year-2030/ and saved to blackassign0024.txt.\n",
      "Extracted article from https://insights.blackcoffer.com/rise-of-electric-vehicles-and-its-impact-on-livelihood-by-2040/ and saved to blackassign0025.txt.\n",
      "Extracted article from https://insights.blackcoffer.com/rise-of-electric-vehicle-and-its-impact-on-livelihood-by-the-year-2040/ and saved to blackassign0026.txt.\n",
      "Extracted article from https://insights.blackcoffer.com/oil-prices-by-the-year-2040-and-how-it-will-impact-the-world-economy/ and saved to blackassign0027.txt.\n",
      "Extracted article from https://insights.blackcoffer.com/an-outlook-of-healthcare-by-the-year-2040-and-how-it-will-impact-human-lives/ and saved to blackassign0028.txt.\n",
      "Extracted article from https://insights.blackcoffer.com/ai-in-healthcare-to-improve-patient-outcomes/ and saved to blackassign0029.txt.\n",
      "Extracted article from https://insights.blackcoffer.com/what-if-the-creation-is-taking-over-the-creator/ and saved to blackassign0030.txt.\n",
      "Extracted article from https://insights.blackcoffer.com/what-jobs-will-robots-take-from-humans-in-the-future/ and saved to blackassign0031.txt.\n",
      "Extracted article from https://insights.blackcoffer.com/will-machine-replace-the-human-in-the-future-of-work/ and saved to blackassign0032.txt.\n",
      "Extracted article from https://insights.blackcoffer.com/will-ai-replace-us-or-work-with-us/ and saved to blackassign0033.txt.\n",
      "Extracted article from https://insights.blackcoffer.com/man-and-machines-together-machines-are-more-diligent-than-humans-blackcoffe/ and saved to blackassign0034.txt.\n",
      "Extracted article from https://insights.blackcoffer.com/in-future-or-in-upcoming-years-humans-and-machines-are-going-to-work-together-in-every-field-of-work/ and saved to blackassign0035.txt.\n",
      "Extracted article from https://insights.blackcoffer.com/how-neural-networks-can-be-applied-in-various-areas-in-the-future/ and saved to blackassign0036.txt.\n",
      "Extracted article from https://insights.blackcoffer.com/how-machine-learning-will-affect-your-business/ and saved to blackassign0037.txt.\n",
      "Extracted article from https://insights.blackcoffer.com/deep-learning-impact-on-areas-of-e-learning/ and saved to blackassign0038.txt.\n",
      "Extracted article from https://insights.blackcoffer.com/how-to-protect-future-data-and-its-privacy-blackcoffer/ and saved to blackassign0039.txt.\n",
      "Extracted article from https://insights.blackcoffer.com/how-machines-ai-automations-and-robo-human-are-effective-in-finance-and-banking/ and saved to blackassign0040.txt.\n",
      "Extracted article from https://insights.blackcoffer.com/ai-human-robotics-machine-future-planet-blackcoffer-thinking-jobs-workplace/ and saved to blackassign0041.txt.\n",
      "Extracted article from https://insights.blackcoffer.com/how-ai-will-change-the-world-blackcoffer/ and saved to blackassign0042.txt.\n",
      "Extracted article from https://insights.blackcoffer.com/future-of-work-how-ai-has-entered-the-workplace/ and saved to blackassign0043.txt.\n",
      "Extracted article from https://insights.blackcoffer.com/ai-tool-alexa-google-assistant-finance-banking-tool-future/ and saved to blackassign0044.txt.\n",
      "Extracted article from https://insights.blackcoffer.com/ai-healthcare-revolution-ml-technology-algorithm-google-analytics-industrialrevolution/ and saved to blackassign0045.txt.\n",
      "Extracted article from https://insights.blackcoffer.com/all-you-need-to-know-about-online-marketing/ and saved to blackassign0046.txt.\n",
      "Extracted article from https://insights.blackcoffer.com/evolution-of-advertising-industry/ and saved to blackassign0047.txt.\n",
      "Extracted article from https://insights.blackcoffer.com/how-data-analytics-can-help-your-business-respond-to-the-impact-of-covid-19/ and saved to blackassign0048.txt.\n",
      "Extracted article from https://insights.blackcoffer.com/covid-19-environmental-impact-for-the-future/ and saved to blackassign0049.txt.\n",
      "Extracted article from https://insights.blackcoffer.com/environmental-impact-of-the-covid-19-pandemic-lesson-for-the-future/ and saved to blackassign0050.txt.\n",
      "Extracted article from https://insights.blackcoffer.com/how-data-analytics-and-ai-are-used-to-halt-the-covid-19-pandemic/ and saved to blackassign0051.txt.\n",
      "Extracted article from https://insights.blackcoffer.com/difference-between-artificial-intelligence-machine-learning-statistics-and-data-mining/ and saved to blackassign0052.txt.\n",
      "Extracted article from https://insights.blackcoffer.com/how-python-became-the-first-choice-for-data-science/ and saved to blackassign0053.txt.\n",
      "Extracted article from https://insights.blackcoffer.com/how-google-fit-measure-heart-and-respiratory-rates-using-a-phone/ and saved to blackassign0054.txt.\n",
      "Extracted article from https://insights.blackcoffer.com/what-is-the-future-of-mobile-apps/ and saved to blackassign0055.txt.\n",
      "Extracted article from https://insights.blackcoffer.com/impact-of-ai-in-health-and-medicine/ and saved to blackassign0056.txt.\n",
      "Extracted article from https://insights.blackcoffer.com/telemedicine-what-patients-like-and-dislike-about-it/ and saved to blackassign0057.txt.\n",
      "Extracted article from https://insights.blackcoffer.com/how-we-forecast-future-technologies/ and saved to blackassign0058.txt.\n",
      "Extracted article from https://insights.blackcoffer.com/can-robots-tackle-late-life-loneliness/ and saved to blackassign0059.txt.\n",
      "Extracted article from https://insights.blackcoffer.com/embedding-care-robots-into-society-socio-technical-considerations/ and saved to blackassign0060.txt.\n",
      "Extracted article from https://insights.blackcoffer.com/management-challenges-for-future-digitalization-of-healthcare-services/ and saved to blackassign0061.txt.\n",
      "Extracted article from https://insights.blackcoffer.com/are-we-any-closer-to-preventing-a-nuclear-holocaust/ and saved to blackassign0062.txt.\n",
      "Extracted article from https://insights.blackcoffer.com/will-technology-eliminate-the-need-for-animal-testing-in-drug-development/ and saved to blackassign0063.txt.\n",
      "Extracted article from https://insights.blackcoffer.com/will-we-ever-understand-the-nature-of-consciousness/ and saved to blackassign0064.txt.\n",
      "Extracted article from https://insights.blackcoffer.com/will-we-ever-colonize-outer-space/ and saved to blackassign0065.txt.\n",
      "Extracted article from https://insights.blackcoffer.com/what-is-the-chance-homo-sapiens-will-survive-for-the-next-500-years/ and saved to blackassign0066.txt.\n",
      "Extracted article from https://insights.blackcoffer.com/why-does-your-business-need-a-chatbot/ and saved to blackassign0067.txt.\n",
      "Extracted article from https://insights.blackcoffer.com/how-you-lead-a-project-or-a-team-without-any-technical-expertise/ and saved to blackassign0068.txt.\n",
      "Extracted article from https://insights.blackcoffer.com/can-you-be-great-leader-without-technical-expertise/ and saved to blackassign0069.txt.\n",
      "Extracted article from https://insights.blackcoffer.com/how-does-artificial-intelligence-affect-the-environment/ and saved to blackassign0070.txt.\n",
      "Extracted article from https://insights.blackcoffer.com/how-to-overcome-your-fear-of-making-mistakes-2/ and saved to blackassign0071.txt.\n",
      "Extracted article from https://insights.blackcoffer.com/is-perfection-the-greatest-enemy-of-productivity/ and saved to blackassign0072.txt.\n",
      "Extracted article from https://insights.blackcoffer.com/global-financial-crisis-2008-causes-effects-and-its-solution/ and saved to blackassign0073.txt.\n",
      "Extracted article from https://insights.blackcoffer.com/gender-diversity-and-equality-in-the-tech-industry/ and saved to blackassign0074.txt.\n",
      "Extracted article from https://insights.blackcoffer.com/how-to-overcome-your-fear-of-making-mistakes/ and saved to blackassign0075.txt.\n",
      "Extracted article from https://insights.blackcoffer.com/how-small-business-can-survive-the-coronavirus-crisis/ and saved to blackassign0076.txt.\n",
      "Extracted article from https://insights.blackcoffer.com/impacts-of-covid-19-on-vegetable-vendors-and-food-stalls/ and saved to blackassign0077.txt.\n",
      "Extracted article from https://insights.blackcoffer.com/impacts-of-covid-19-on-vegetable-vendors/ and saved to blackassign0078.txt.\n",
      "Extracted article from https://insights.blackcoffer.com/impact-of-covid-19-pandemic-on-tourism-aviation-industries/ and saved to blackassign0079.txt.\n",
      "Extracted article from https://insights.blackcoffer.com/impact-of-covid-19-pandemic-on-sports-events-around-the-world/ and saved to blackassign0080.txt.\n",
      "Extracted article from https://insights.blackcoffer.com/changing-landscape-and-emerging-trends-in-the-indian-it-ites-industry/ and saved to blackassign0081.txt.\n",
      "Extracted article from https://insights.blackcoffer.com/online-gaming-adolescent-online-gaming-effects-demotivated-depression-musculoskeletal-and-psychosomatic-symptoms/ and saved to blackassign0082.txt.\n",
      "Extracted article from https://insights.blackcoffer.com/human-rights-outlook/ and saved to blackassign0083.txt.\n",
      "Extracted article from https://insights.blackcoffer.com/how-voice-search-makes-your-business-a-successful-business/ and saved to blackassign0084.txt.\n",
      "Extracted article from https://insights.blackcoffer.com/how-the-covid-19-crisis-is-redefining-jobs-and-services/ and saved to blackassign0085.txt.\n",
      "Extracted article from https://insights.blackcoffer.com/how-to-increase-social-media-engagement-for-marketers/ and saved to blackassign0086.txt.\n",
      "Extracted article from https://insights.blackcoffer.com/impacts-of-covid-19-on-streets-sides-food-stalls/ and saved to blackassign0087.txt.\n",
      "Extracted article from https://insights.blackcoffer.com/coronavirus-impact-on-energy-markets-2/ and saved to blackassign0088.txt.\n",
      "Extracted article from https://insights.blackcoffer.com/coronavirus-impact-on-the-hospitality-industry-5/ and saved to blackassign0089.txt.\n",
      "Extracted article from https://insights.blackcoffer.com/lessons-from-the-past-some-key-learnings-relevant-to-the-coronavirus-crisis-4/ and saved to blackassign0090.txt.\n",
      "Extracted article from https://insights.blackcoffer.com/estimating-the-impact-of-covid-19-on-the-world-of-work-2/ and saved to blackassign0091.txt.\n",
      "Extracted article from https://insights.blackcoffer.com/estimating-the-impact-of-covid-19-on-the-world-of-work-3/ and saved to blackassign0092.txt.\n",
      "Extracted article from https://insights.blackcoffer.com/travel-and-tourism-outlook/ and saved to blackassign0093.txt.\n",
      "Extracted article from https://insights.blackcoffer.com/gaming-disorder-and-effects-of-gaming-on-health/ and saved to blackassign0094.txt.\n",
      "Extracted article from https://insights.blackcoffer.com/what-is-the-repercussion-of-the-environment-due-to-the-covid-19-pandemic-situation/ and saved to blackassign0095.txt.\n",
      "Extracted article from https://insights.blackcoffer.com/what-is-the-repercussion-of-the-environment-due-to-the-covid-19-pandemic-situation-2/ and saved to blackassign0096.txt.\n",
      "Extracted article from https://insights.blackcoffer.com/impact-of-covid-19-pandemic-on-office-space-and-co-working-industries/ and saved to blackassign0097.txt.\n",
      "Extracted article from https://insights.blackcoffer.com/contribution-of-handicrafts-visual-arts-literature-in-the-indian-economy/ and saved to blackassign0098.txt.\n",
      "Extracted article from https://insights.blackcoffer.com/how-covid-19-is-impacting-payment-preferences/ and saved to blackassign0099.txt.\n",
      "Extracted article from https://insights.blackcoffer.com/how-will-covid-19-affect-the-world-of-work-2/ and saved to blackassign0100.txt.\n"
     ]
    }
   ],
   "source": [
    "for i, row in df.iterrows():\n",
    "    url = row['URL']\n",
    "    url_id = row['URL_ID']\n",
    "    article_text = extract_article_text(url)\n",
    "    output_file = f\"{url_id}.txt\"\n",
    "    with open(output_file, 'w', encoding='utf-8') as file:\n",
    "        file.write(article_text)\n",
    "    print(f\"Extracted article from {url} and saved to {output_file}.\")\n"
   ]
  },
  {
   "cell_type": "markdown",
   "metadata": {},
   "source": [
    "#### #Step[5]:\n",
    "\n",
    "#### Load positive and negative words"
   ]
  },
  {
   "cell_type": "code",
   "execution_count": 8,
   "metadata": {},
   "outputs": [],
   "source": [
    "positive_words = set()\n",
    "negative_words = set()\n",
    "\n",
    "with open('D:/Journey of Data Science/Projects/Data extraction/DataSet/MasterDictionary/positive-words.txt', 'r') as f:\n",
    "    positive_words = set(word.strip() for word in f.readlines())\n",
    "\n",
    "with open('D:/Journey of Data Science/Projects/Data extraction/DataSet/MasterDictionary/negative-words.txt', 'r', encoding='latin-1') as f:\n",
    "    negative_words = set(word.strip() for word in f.readlines())"
   ]
  },
  {
   "cell_type": "markdown",
   "metadata": {},
   "source": [
    "#### Functions to calculate positive and negative scores"
   ]
  },
  {
   "cell_type": "code",
   "execution_count": 9,
   "metadata": {},
   "outputs": [],
   "source": [
    "def get_positive_score(text):\n",
    "    words = text.split()\n",
    "    positive_count = sum(1 for word in words if word in positive_words)\n",
    "    total_words = len(words)\n",
    "    return positive_count / total_words if total_words else 0\n",
    "\n",
    "def get_negative_score(text):\n",
    "    words = text.split()\n",
    "    negative_count = sum(1 for word in words if word in negative_words)\n",
    "    total_words = len(words)\n",
    "    return negative_count / total_words if total_words else 0\n"
   ]
  },
  {
   "cell_type": "markdown",
   "metadata": {},
   "source": [
    "#### #Step[6]:\n",
    "\n",
    "#### Function to count syllables in a word"
   ]
  },
  {
   "cell_type": "code",
   "execution_count": 10,
   "metadata": {},
   "outputs": [],
   "source": [
    "def count_syllables(word):\n",
    "    vowels = 'aeiouy'\n",
    "    num_vowels = 0\n",
    "    for i in range(len(word)):\n",
    "        if word[i].lower() in vowels:\n",
    "            num_vowels += 1\n",
    "            if i > 0 and word[i-1].lower() in vowels:\n",
    "                num_vowels -= 1\n",
    "    if word.endswith('e'):\n",
    "        num_vowels -= 1\n",
    "    if num_vowels == 0:\n",
    "        num_vowels = 1\n",
    "    return num_vowels"
   ]
  },
  {
   "cell_type": "markdown",
   "metadata": {},
   "source": [
    "#### Function to count complex words"
   ]
  },
  {
   "cell_type": "code",
   "execution_count": 11,
   "metadata": {},
   "outputs": [],
   "source": [
    "def count_complex_words(text):\n",
    "    words = text.split()\n",
    "    return sum(1 for word in words if syllables.estimate(word) > 2)\n",
    "\n",
    "def calculate_percentage_of_complex_words(text):\n",
    "    words = word_tokenize(text)\n",
    "    total_words = len(words)\n",
    "    num_complex_words = count_complex_words(text)\n",
    "    return (num_complex_words / total_words) if total_words else 0"
   ]
  },
  {
   "cell_type": "markdown",
   "metadata": {},
   "source": [
    "#### #Step[7]:\n",
    "\n",
    "#### Function to count personal pronouns"
   ]
  },
  {
   "cell_type": "code",
   "execution_count": 12,
   "metadata": {},
   "outputs": [],
   "source": [
    "def count_personal_pronouns(text):\n",
    "    personal_pronouns = ['I', 'we', 'my', 'ours', 'us']                  # Provided in Text Analysis.docx\n",
    "    pattern = r'\\b(' + '|'.join(personal_pronouns) + r')\\b'\n",
    "    regex = re.compile(pattern, flags=re.IGNORECASE)\n",
    "    count = len(regex.findall(text))\n",
    "    return count\n"
   ]
  },
  {
   "cell_type": "markdown",
   "metadata": {},
   "source": [
    "#### Count personal pronouns"
   ]
  },
  {
   "cell_type": "code",
   "execution_count": 13,
   "metadata": {},
   "outputs": [],
   "source": [
    "personalpronouns = []\n",
    "for i, row in df.iterrows():\n",
    "    url_id = row['URL_ID']\n",
    "    with open(f'{url_id}.txt', 'r', encoding='utf-8') as file:\n",
    "        text = file.read()\n",
    "        personalpronouns.append(count_personal_pronouns(text))"
   ]
  },
  {
   "cell_type": "markdown",
   "metadata": {},
   "source": [
    "#### #Step[8]:\n",
    "\n",
    "#### Function to load stop words"
   ]
  },
  {
   "cell_type": "code",
   "execution_count": 14,
   "metadata": {},
   "outputs": [],
   "source": [
    "def load_stop_words(file_path):\n",
    "    with open(file_path, 'r', encoding='latin-1') as f:\n",
    "        stop_words = [line.strip() for line in f]\n",
    "    return set(stop_words)\n"
   ]
  },
  {
   "cell_type": "markdown",
   "metadata": {},
   "source": [
    "#### Load stop words from multiple files"
   ]
  },
  {
   "cell_type": "code",
   "execution_count": 15,
   "metadata": {},
   "outputs": [],
   "source": [
    "stop_words_files = [\n",
    "    'D:/Journey of Data Science/Projects/Data extraction/DataSet/StopWords/StopWords_Auditor.txt',\n",
    "    'D:/Journey of Data Science/Projects/Data extraction/DataSet/StopWords/StopWords_Geographic.txt',\n",
    "    'D:/Journey of Data Science/Projects/Data extraction/DataSet/StopWords/StopWords_Currencies.txt',\n",
    "    'D:/Journey of Data Science/Projects/Data extraction/DataSet//StopWords/StopWords_DatesandNumbers.txt',\n",
    "    'D:/Journey of Data Science/Projects/Data extraction/DataSet/StopWords/StopWords_Generic.txt',\n",
    "    'D:/Journey of Data Science/Projects/Data extraction/DataSet/StopWords/StopWords_GenericLong.txt',\n",
    "    'D:/Journey of Data Science/Projects/Data extraction/DataSet/StopWords/StopWords_Names.txt'\n",
    "]\n",
    "\n",
    "stop_words = set()\n",
    "for file in stop_words_files:\n",
    "    stop_words.update(load_stop_words(file))"
   ]
  },
  {
   "cell_type": "markdown",
   "metadata": {},
   "source": [
    "#### #Step[9]:\n",
    "\n",
    "#### Function to normalize text"
   ]
  },
  {
   "cell_type": "code",
   "execution_count": 16,
   "metadata": {},
   "outputs": [],
   "source": [
    "lemmatizer = WordNetLemmatizer()\n",
    "\n",
    "def normalize_text(text):\n",
    "    text = re.sub(r'[^\\w\\s.]', ' ', text).lower().strip()\n",
    "    text = text.replace('.', ' FULL_STOP_TOKEN ')\n",
    "    words = word_tokenize(text)\n",
    "    words = [word for word in words if word not in stop_words]\n",
    "    words = [lemmatizer.lemmatize(word) for word in words]\n",
    "    return ' '.join(words)"
   ]
  },
  {
   "cell_type": "markdown",
   "metadata": {},
   "source": [
    "#### Normalize the text"
   ]
  },
  {
   "cell_type": "code",
   "execution_count": 17,
   "metadata": {},
   "outputs": [],
   "source": [
    "for i, row in df.iterrows():\n",
    "    url_id = row['URL_ID']\n",
    "    with open(f'{url_id}.txt', 'r', encoding='utf-8') as file:\n",
    "        text = file.read()\n",
    "    normalized_text = normalize_text(text)\n",
    "    with open(f'{url_id}.txt', 'w', encoding='utf-8') as file:\n",
    "        file.write(normalized_text)"
   ]
  },
  {
   "cell_type": "markdown",
   "metadata": {},
   "source": [
    "#### #Step[10]:\n",
    "\n",
    "#### Function to calculate average word length"
   ]
  },
  {
   "cell_type": "code",
   "execution_count": 18,
   "metadata": {},
   "outputs": [],
   "source": [
    "def calculate_avg_word_length(text):\n",
    "    words = text.split()\n",
    "    total_length = sum(len(word) for word in words)\n",
    "    return (total_length / len(words)) if words else 0"
   ]
  },
  {
   "cell_type": "markdown",
   "metadata": {},
   "source": [
    "#### #Step[11]\n",
    "\n",
    "#### Calculate various scores and metrics"
   ]
  },
  {
   "cell_type": "code",
   "execution_count": 19,
   "metadata": {},
   "outputs": [],
   "source": [
    "positive = []\n",
    "negative = []\n",
    "polarity = []\n",
    "subjectivity = []\n",
    "fogIndex = []\n",
    "avgnum = []\n",
    "complexwords = []\n",
    "syllable = []\n",
    "wordcount = []\n",
    "avgwordlength = []\n"
   ]
  },
  {
   "cell_type": "code",
   "execution_count": 20,
   "metadata": {},
   "outputs": [],
   "source": [
    "for i, row in df.iterrows():\n",
    "    url_id = row['URL_ID']\n",
    "    with open(f'{url_id}.txt', 'r', encoding='utf-8') as file:\n",
    "        text = file.read()\n",
    "    \n",
    "    sentences = text.split('FULL_STOP_TOKEN')\n",
    "    num_sentences = len(sentences)\n",
    "    text = text.replace('FULL_STOP_TOKEN', \"\")\n",
    "    words = text.split()\n",
    "    num_words = len(words)\n",
    "    \n",
    "    positive_score = get_positive_score(text)\n",
    "    positive.append(positive_score)\n",
    "    \n",
    "    negative_score = get_negative_score(text)\n",
    "    negative.append(negative_score)\n",
    "    \n",
    "    polarity.append((positive_score - negative_score) / ((positive_score + negative_score) + 0.000001))\n",
    "    subjectivity.append((positive_score + negative_score) / ((num_words) + 0.000001))\n",
    "    \n",
    "    avg_sentence_length = num_words / num_sentences if num_sentences else 0\n",
    "    percentage_of_complex_words = calculate_percentage_of_complex_words(text)\n",
    "    fogIndex.append(0.4 * (avg_sentence_length + percentage_of_complex_words))\n",
    "    \n",
    "    avgnum.append(avg_sentence_length)\n",
    "    complexwords.append(count_complex_words(text))\n",
    "    wordcount.append(num_words)\n",
    "    syllable.append(sum(count_syllables(word) for word in words))\n",
    "    avgwordlength.append(calculate_avg_word_length(text))"
   ]
  },
  {
   "cell_type": "markdown",
   "metadata": {},
   "source": [
    "#### #Step[12]:\n",
    "\n",
    "#### Add calculated columns to DataFrame"
   ]
  },
  {
   "cell_type": "code",
   "execution_count": 21,
   "metadata": {},
   "outputs": [
    {
     "data": {
      "text/html": [
       "<div>\n",
       "<style scoped>\n",
       "    .dataframe tbody tr th:only-of-type {\n",
       "        vertical-align: middle;\n",
       "    }\n",
       "\n",
       "    .dataframe tbody tr th {\n",
       "        vertical-align: top;\n",
       "    }\n",
       "\n",
       "    .dataframe thead th {\n",
       "        text-align: right;\n",
       "    }\n",
       "</style>\n",
       "<table border=\"1\" class=\"dataframe\">\n",
       "  <thead>\n",
       "    <tr style=\"text-align: right;\">\n",
       "      <th></th>\n",
       "      <th>URL_ID</th>\n",
       "      <th>URL</th>\n",
       "      <th>POSITIVE SCORE</th>\n",
       "      <th>NEGATIVE SCORE</th>\n",
       "      <th>POLARITY SCORE</th>\n",
       "      <th>SUBJECTIVITY SCORE</th>\n",
       "      <th>FOG INDEX</th>\n",
       "      <th>AVG NUMBER OF WORDS PER SENTENCE</th>\n",
       "      <th>COMPLEX WORD COUNT</th>\n",
       "      <th>WORD COUNT</th>\n",
       "      <th>SYLLABLE PER WORD</th>\n",
       "      <th>PERSONAL PRONOUNS</th>\n",
       "      <th>AVG WORD LENGTH</th>\n",
       "    </tr>\n",
       "  </thead>\n",
       "  <tbody>\n",
       "    <tr>\n",
       "      <th>0</th>\n",
       "      <td>blackassign0001</td>\n",
       "      <td>https://insights.blackcoffer.com/rising-it-cit...</td>\n",
       "      <td>0.049505</td>\n",
       "      <td>0.006601</td>\n",
       "      <td>0.764692</td>\n",
       "      <td>0.000185</td>\n",
       "      <td>4.202376</td>\n",
       "      <td>10.100000</td>\n",
       "      <td>123</td>\n",
       "      <td>303</td>\n",
       "      <td>697</td>\n",
       "      <td>6</td>\n",
       "      <td>6.762376</td>\n",
       "    </tr>\n",
       "    <tr>\n",
       "      <th>1</th>\n",
       "      <td>blackassign0002</td>\n",
       "      <td>https://insights.blackcoffer.com/rising-it-cit...</td>\n",
       "      <td>0.071586</td>\n",
       "      <td>0.035242</td>\n",
       "      <td>0.340203</td>\n",
       "      <td>0.000118</td>\n",
       "      <td>4.508832</td>\n",
       "      <td>10.809524</td>\n",
       "      <td>420</td>\n",
       "      <td>908</td>\n",
       "      <td>2215</td>\n",
       "      <td>8</td>\n",
       "      <td>7.122247</td>\n",
       "    </tr>\n",
       "    <tr>\n",
       "      <th>2</th>\n",
       "      <td>blackassign0003</td>\n",
       "      <td>https://insights.blackcoffer.com/internet-dema...</td>\n",
       "      <td>0.064516</td>\n",
       "      <td>0.037419</td>\n",
       "      <td>0.265820</td>\n",
       "      <td>0.000132</td>\n",
       "      <td>5.306999</td>\n",
       "      <td>12.704918</td>\n",
       "      <td>436</td>\n",
       "      <td>775</td>\n",
       "      <td>2050</td>\n",
       "      <td>15</td>\n",
       "      <td>7.776774</td>\n",
       "    </tr>\n",
       "    <tr>\n",
       "      <th>3</th>\n",
       "      <td>blackassign0004</td>\n",
       "      <td>https://insights.blackcoffer.com/rise-of-cyber...</td>\n",
       "      <td>0.059761</td>\n",
       "      <td>0.108898</td>\n",
       "      <td>-0.291337</td>\n",
       "      <td>0.000224</td>\n",
       "      <td>5.593711</td>\n",
       "      <td>13.446429</td>\n",
       "      <td>405</td>\n",
       "      <td>753</td>\n",
       "      <td>1950</td>\n",
       "      <td>7</td>\n",
       "      <td>7.705179</td>\n",
       "    </tr>\n",
       "    <tr>\n",
       "      <th>4</th>\n",
       "      <td>blackassign0005</td>\n",
       "      <td>https://insights.blackcoffer.com/ott-platform-...</td>\n",
       "      <td>0.058594</td>\n",
       "      <td>0.019531</td>\n",
       "      <td>0.499994</td>\n",
       "      <td>0.000153</td>\n",
       "      <td>4.835014</td>\n",
       "      <td>11.636364</td>\n",
       "      <td>231</td>\n",
       "      <td>512</td>\n",
       "      <td>1186</td>\n",
       "      <td>8</td>\n",
       "      <td>7.179688</td>\n",
       "    </tr>\n",
       "  </tbody>\n",
       "</table>\n",
       "</div>"
      ],
      "text/plain": [
       "            URL_ID                                                URL  \\\n",
       "0  blackassign0001  https://insights.blackcoffer.com/rising-it-cit...   \n",
       "1  blackassign0002  https://insights.blackcoffer.com/rising-it-cit...   \n",
       "2  blackassign0003  https://insights.blackcoffer.com/internet-dema...   \n",
       "3  blackassign0004  https://insights.blackcoffer.com/rise-of-cyber...   \n",
       "4  blackassign0005  https://insights.blackcoffer.com/ott-platform-...   \n",
       "\n",
       "   POSITIVE SCORE  NEGATIVE SCORE  POLARITY SCORE  SUBJECTIVITY SCORE  \\\n",
       "0        0.049505        0.006601        0.764692            0.000185   \n",
       "1        0.071586        0.035242        0.340203            0.000118   \n",
       "2        0.064516        0.037419        0.265820            0.000132   \n",
       "3        0.059761        0.108898       -0.291337            0.000224   \n",
       "4        0.058594        0.019531        0.499994            0.000153   \n",
       "\n",
       "   FOG INDEX  AVG NUMBER OF WORDS PER SENTENCE  COMPLEX WORD COUNT  \\\n",
       "0   4.202376                         10.100000                 123   \n",
       "1   4.508832                         10.809524                 420   \n",
       "2   5.306999                         12.704918                 436   \n",
       "3   5.593711                         13.446429                 405   \n",
       "4   4.835014                         11.636364                 231   \n",
       "\n",
       "   WORD COUNT  SYLLABLE PER WORD  PERSONAL PRONOUNS  AVG WORD LENGTH  \n",
       "0         303                697                  6         6.762376  \n",
       "1         908               2215                  8         7.122247  \n",
       "2         775               2050                 15         7.776774  \n",
       "3         753               1950                  7         7.705179  \n",
       "4         512               1186                  8         7.179688  "
      ]
     },
     "execution_count": 21,
     "metadata": {},
     "output_type": "execute_result"
    }
   ],
   "source": [
    "\n",
    "\n",
    "# Add calculated columns to DataFrame\n",
    "df[\"POSITIVE SCORE\"] = positive\n",
    "df[\"NEGATIVE SCORE\"] = negative\n",
    "df[\"POLARITY SCORE\"] = polarity\n",
    "df[\"SUBJECTIVITY SCORE\"] = subjectivity\n",
    "df[\"FOG INDEX\"] = fogIndex\n",
    "df[\"AVG NUMBER OF WORDS PER SENTENCE\"] = avgnum\n",
    "df[\"COMPLEX WORD COUNT\"] = complexwords\n",
    "df[\"WORD COUNT\"] = wordcount\n",
    "df[\"SYLLABLE PER WORD\"] = syllable\n",
    "df[\"PERSONAL PRONOUNS\"] = personalpronouns\n",
    "df[\"AVG WORD LENGTH\"] = avgwordlength\n",
    "\n",
    "# Save the final DataFrame to an Excel file\n",
    "df.to_excel('Output Data Structure.xlsx', index=False)\n",
    "df.to_csv('Output Data Structure.csv', index=False)\n",
    "# Step 21: Display the first few rows of the DataFrame\n",
    "df.head()"
   ]
  },
  {
   "cell_type": "code",
   "execution_count": null,
   "metadata": {},
   "outputs": [],
   "source": []
  }
 ],
 "metadata": {
  "kernelspec": {
   "display_name": "Python 3",
   "language": "python",
   "name": "python3"
  },
  "language_info": {
   "codemirror_mode": {
    "name": "ipython",
    "version": 3
   },
   "file_extension": ".py",
   "mimetype": "text/x-python",
   "name": "python",
   "nbconvert_exporter": "python",
   "pygments_lexer": "ipython3",
   "version": "3.12.3"
  }
 },
 "nbformat": 4,
 "nbformat_minor": 2
}
